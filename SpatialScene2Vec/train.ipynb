{
 "cells": [
  {
   "cell_type": "code",
   "execution_count": 1,
   "metadata": {},
   "outputs": [],
   "source": [
    "import os\n",
    "import pickle\n",
    "from scene2vec_code.scene_data_load import load_scene_list\n",
    "from scene2vec_code.poi_data_load import load_poiset\n",
    "from scene2vec_code.center_data_load import load_centerset"
   ]
  },
  {
   "cell_type": "markdown",
   "metadata": {},
   "source": [
    "### 读取原始数据"
   ]
  },
  {
   "cell_type": "code",
   "execution_count": 2,
   "metadata": {},
   "outputs": [],
   "source": [
    "\n",
    "path = os.getcwd()\n",
    "data_path = '/data_aug/'\n",
    "scene_data = pickle.load(open(path+data_path+'scene_ng_list.pkl','rb'))\n",
    "poiset = pickle.load(open(path+data_path+'pointset.pkl','rb'))\n",
    "centerset = pickle.load(open(path+data_path+'centersets.pkl','rb'))\n"
   ]
  },
  {
   "cell_type": "markdown",
   "metadata": {},
   "source": [
    "### 数据增强\n",
    "增删、平移获得相似数据"
   ]
  },
  {
   "cell_type": "code",
   "execution_count": 3,
   "metadata": {},
   "outputs": [],
   "source": [
    "from scene2vec_code.augmentation import NewSpatialSceneAugmentation as spaug"
   ]
  },
  {
   "cell_type": "code",
   "execution_count": 4,
   "metadata": {},
   "outputs": [],
   "source": [
    "#Initialize the aumentation methon\n",
    "Scene_aug = spaug(poiset=poiset,centerset=centerset,max_poi_len=10)"
   ]
  },
  {
   "cell_type": "code",
   "execution_count": 5,
   "metadata": {},
   "outputs": [],
   "source": [
    "scene_ng_pair,new_poiset = Scene_aug(scene_data)"
   ]
  },
  {
   "cell_type": "markdown",
   "metadata": {},
   "source": [
    "### 数据格式整理"
   ]
  },
  {
   "cell_type": "code",
   "execution_count": 6,
   "metadata": {},
   "outputs": [],
   "source": [
    "scene_ng_list = load_scene_list(ng_data=scene_ng_pair)\n",
    "poi_ng_list,feature_embedding = load_poiset(poi_list=new_poiset)\n",
    "center_ng_list = load_centerset(center_list=centerset)"
   ]
  },
  {
   "cell_type": "markdown",
   "metadata": {},
   "source": [
    "### 加载训练器"
   ]
  },
  {
   "cell_type": "code",
   "execution_count": 7,
   "metadata": {},
   "outputs": [],
   "source": [
    "from scene2vec_code.Trainer import Trainer"
   ]
  },
  {
   "cell_type": "code",
   "execution_count": 8,
   "metadata": {},
   "outputs": [
    {
     "name": "stderr",
     "output_type": "stream",
     "text": [
      "/home/gesy/Scene2Vec_beta/scene2vec_code/module.py:61: UserWarning: nn.init.xavier_uniform is now deprecated in favor of nn.init.xavier_uniform_.\n",
      "  nn.init.xavier_uniform(self.linear.weight)\n",
      "2022-09-24 13:48:28,115 - INFO - Save file at Model_2022-09-24_13:48:23.pth\n"
     ]
    },
    {
     "name": "stdout",
     "output_type": "stream",
     "text": [
      "Create model from Model_2022-09-24_13:48:23.pth\n"
     ]
    }
   ],
   "source": [
    "trainer = Trainer(poiset=poi_ng_list,\n",
    "                  centerset=center_ng_list,\n",
    "                  ng_pair_list=scene_ng_list,\n",
    "                  feature_embedding=feature_embedding,\n",
    "                  console=True)"
   ]
  },
  {
   "cell_type": "code",
   "execution_count": 9,
   "metadata": {},
   "outputs": [
    {
     "name": "stderr",
     "output_type": "stream",
     "text": [
      "2022-09-24 13:48:29,141 - INFO - Iter 0; Train ema_loss 1.967557\n",
      "2022-09-24 13:48:29,149 - INFO - Iter: 0; Train MRR: 0.004960, HIT@1: 0.000000, HIT@3: 0.001953, HIT@5: 0.011719, HIT@10: 0.027344\n",
      "2022-09-24 13:48:57,751 - INFO - Iter 100; Train ema_loss 1.905628\n",
      "2022-09-24 13:48:57,760 - INFO - Iter: 100; Train MRR: 0.016145, HIT@1: 0.007812, HIT@3: 0.017578, HIT@5: 0.028320, HIT@10: 0.044922\n",
      "2022-09-24 13:49:26,649 - INFO - Iter 200; Train ema_loss 1.760296\n",
      "2022-09-24 13:49:26,658 - INFO - Iter: 200; Train MRR: 0.060743, HIT@1: 0.031250, HIT@3: 0.064453, HIT@5: 0.097656, HIT@10: 0.159180\n",
      "2022-09-24 13:49:56,062 - INFO - Iter 300; Train ema_loss 1.499961\n",
      "2022-09-24 13:49:56,072 - INFO - Iter: 300; Train MRR: 0.241362, HIT@1: 0.150391, HIT@3: 0.290039, HIT@5: 0.366211, HIT@10: 0.477539\n",
      "2022-09-24 13:50:25,460 - INFO - Iter 400; Train ema_loss 1.111231\n",
      "2022-09-24 13:50:25,470 - INFO - Iter: 400; Train MRR: 0.569991, HIT@1: 0.453125, HIT@3: 0.645508, HIT@5: 0.731445, HIT@10: 0.831055\n",
      "2022-09-24 13:50:54,939 - INFO - Iter 500; Train ema_loss 0.698673\n",
      "2022-09-24 13:50:54,948 - INFO - Iter: 500; Train MRR: 0.841569, HIT@1: 0.764648, HIT@3: 0.907227, HIT@5: 0.940430, HIT@10: 0.970703\n",
      "2022-09-24 13:51:23,689 - INFO - Iter 600; Train ema_loss 0.405572\n",
      "2022-09-24 13:51:23,698 - INFO - Iter: 600; Train MRR: 0.954188, HIT@1: 0.922852, HIT@3: 0.982422, HIT@5: 0.994141, HIT@10: 1.000000\n",
      "2022-09-24 13:51:52,721 - INFO - Iter 700; Train ema_loss 0.232293\n",
      "2022-09-24 13:51:52,730 - INFO - Iter: 700; Train MRR: 0.987305, HIT@1: 0.977539, HIT@3: 0.997070, HIT@5: 0.999023, HIT@10: 0.999023\n",
      "2022-09-24 13:52:22,871 - INFO - Iter 800; Train ema_loss 0.148539\n",
      "2022-09-24 13:52:22,880 - INFO - Iter: 800; Train MRR: 0.985849, HIT@1: 0.974609, HIT@3: 0.996094, HIT@5: 0.999023, HIT@10: 1.000000\n",
      "2022-09-24 13:52:51,398 - INFO - Iter 900; Train ema_loss 0.097482\n",
      "2022-09-24 13:52:51,407 - INFO - Iter: 900; Train MRR: 0.996094, HIT@1: 0.992188, HIT@3: 1.000000, HIT@5: 1.000000, HIT@10: 1.000000\n",
      "2022-09-24 13:53:20,427 - INFO - Iter 1000; Train ema_loss 0.069315\n",
      "2022-09-24 13:53:20,436 - INFO - Iter: 1000; Train MRR: 0.996012, HIT@1: 0.993164, HIT@3: 0.999023, HIT@5: 1.000000, HIT@10: 1.000000\n",
      "2022-09-24 13:53:47,403 - INFO - Iter 1100; Train ema_loss 0.060064\n",
      "2022-09-24 13:53:47,412 - INFO - Iter: 1100; Train MRR: 0.992432, HIT@1: 0.985352, HIT@3: 0.999023, HIT@5: 1.000000, HIT@10: 1.000000\n",
      "2022-09-24 13:54:18,193 - INFO - Iter 1200; Train ema_loss 0.047243\n",
      "2022-09-24 13:54:18,202 - INFO - Iter: 1200; Train MRR: 0.999023, HIT@1: 0.998047, HIT@3: 1.000000, HIT@5: 1.000000, HIT@10: 1.000000\n",
      "2022-09-24 13:54:47,349 - INFO - Iter 1300; Train ema_loss 0.046408\n",
      "2022-09-24 13:54:47,358 - INFO - Iter: 1300; Train MRR: 0.996094, HIT@1: 0.992188, HIT@3: 1.000000, HIT@5: 1.000000, HIT@10: 1.000000\n",
      "2022-09-24 13:55:14,249 - INFO - Iter 1400; Train ema_loss 0.038879\n",
      "2022-09-24 13:55:14,258 - INFO - Iter: 1400; Train MRR: 0.996582, HIT@1: 0.993164, HIT@3: 1.000000, HIT@5: 1.000000, HIT@10: 1.000000\n",
      "2022-09-24 13:55:43,689 - INFO - Iter 1500; Train ema_loss 0.033007\n",
      "2022-09-24 13:55:43,698 - INFO - Iter: 1500; Train MRR: 0.998535, HIT@1: 0.997070, HIT@3: 1.000000, HIT@5: 1.000000, HIT@10: 1.000000\n",
      "2022-09-24 13:56:11,872 - INFO - Iter 1600; Train ema_loss 0.035215\n",
      "2022-09-24 13:56:11,882 - INFO - Iter: 1600; Train MRR: 0.996419, HIT@1: 0.993164, HIT@3: 1.000000, HIT@5: 1.000000, HIT@10: 1.000000\n",
      "2022-09-24 13:56:41,096 - INFO - Iter 1700; Train ema_loss 0.029738\n",
      "2022-09-24 13:56:41,105 - INFO - Iter: 1700; Train MRR: 0.998535, HIT@1: 0.997070, HIT@3: 1.000000, HIT@5: 1.000000, HIT@10: 1.000000\n",
      "2022-09-24 13:57:12,406 - INFO - Iter 1800; Train ema_loss 0.033164\n",
      "2022-09-24 13:57:12,416 - INFO - Iter: 1800; Train MRR: 0.987549, HIT@1: 0.975586, HIT@3: 0.999023, HIT@5: 1.000000, HIT@10: 1.000000\n",
      "2022-09-24 13:57:41,505 - INFO - Iter 1900; Train ema_loss 0.028361\n",
      "2022-09-24 13:57:41,514 - INFO - Iter: 1900; Train MRR: 1.000000, HIT@1: 1.000000, HIT@3: 1.000000, HIT@5: 1.000000, HIT@10: 1.000000\n",
      "2022-09-24 13:58:08,536 - INFO - Iter 2000; Train ema_loss 0.024438\n",
      "2022-09-24 13:58:08,545 - INFO - Iter: 2000; Train MRR: 0.998535, HIT@1: 0.997070, HIT@3: 1.000000, HIT@5: 1.000000, HIT@10: 1.000000\n",
      "2022-09-24 13:58:37,193 - INFO - Iter 2100; Train ema_loss 0.028301\n",
      "2022-09-24 13:58:37,201 - INFO - Iter: 2100; Train MRR: 0.995605, HIT@1: 0.991211, HIT@3: 1.000000, HIT@5: 1.000000, HIT@10: 1.000000\n",
      "2022-09-24 13:59:06,130 - INFO - Iter 2200; Train ema_loss 0.023839\n",
      "2022-09-24 13:59:06,138 - INFO - Iter: 2200; Train MRR: 0.996582, HIT@1: 0.993164, HIT@3: 1.000000, HIT@5: 1.000000, HIT@10: 1.000000\n",
      "2022-09-24 13:59:34,756 - INFO - Iter 2300; Train ema_loss 0.026089\n",
      "2022-09-24 13:59:34,766 - INFO - Iter: 2300; Train MRR: 0.985352, HIT@1: 0.970703, HIT@3: 1.000000, HIT@5: 1.000000, HIT@10: 1.000000\n",
      "2022-09-24 14:00:03,747 - INFO - Iter 2400; Train ema_loss 0.023182\n",
      "2022-09-24 14:00:03,756 - INFO - Iter: 2400; Train MRR: 0.997070, HIT@1: 0.994141, HIT@3: 1.000000, HIT@5: 1.000000, HIT@10: 1.000000\n"
     ]
    }
   ],
   "source": [
    "trainer.train()"
   ]
  },
  {
   "cell_type": "code",
   "execution_count": null,
   "metadata": {},
   "outputs": [],
   "source": []
  }
 ],
 "metadata": {
  "kernelspec": {
   "display_name": "Python 3.8.13 ('GCN')",
   "language": "python",
   "name": "python3"
  },
  "language_info": {
   "codemirror_mode": {
    "name": "ipython",
    "version": 3
   },
   "file_extension": ".py",
   "mimetype": "text/x-python",
   "name": "python",
   "nbconvert_exporter": "python",
   "pygments_lexer": "ipython3",
   "version": "3.8.13"
  },
  "orig_nbformat": 4,
  "vscode": {
   "interpreter": {
    "hash": "e182acb5ef20b9ebade831c2f495095bb8e005b851e4fdd23f2caf08444d8814"
   }
  }
 },
 "nbformat": 4,
 "nbformat_minor": 2
}
