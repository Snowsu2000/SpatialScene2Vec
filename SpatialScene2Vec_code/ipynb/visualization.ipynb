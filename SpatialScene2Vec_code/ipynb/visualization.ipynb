{
 "cells": [
  {
   "cell_type": "code",
   "execution_count": 14,
   "metadata": {},
   "outputs": [],
   "source": [
    "from matplotlib import pyplot as plt\n",
    "import numpy as np\n",
    "import logging\n"
   ]
  },
  {
   "cell_type": "code",
   "execution_count": 11,
   "metadata": {},
   "outputs": [],
   "source": [
    "i = 0\n",
    "loss = []\n",
    "for line in open('./log/Model_Tue Sep 06 22:20:03 2022.log','r'):\n",
    "    i += 1\n",
    "    if i == 1:\n",
    "        continue\n",
    "    tmp = line.split(' ')\n",
    "    loss.append(float(tmp[-1][:-2]))"
   ]
  },
  {
   "cell_type": "code",
   "execution_count": 13,
   "metadata": {},
   "outputs": [
    {
     "name": "stdout",
     "output_type": "stream",
     "text": [
      "[1.58894, 1.56941, 1.53565, 1.48963, 1.43581, 1.37591, 1.30336, 1.22488, 1.14711, 1.06586, 0.98636, 0.90421, 0.82775, 0.76029, 0.69674, 0.63854, 0.5912, 0.54969, 0.51381, 0.48078, 0.45168, 0.42844, 0.40447, 0.38523, 0.37021, 0.35628, 0.34346, 0.32915, 0.31768, 0.30963, 0.29926, 0.29021, 0.28287, 0.27727, 0.27292, 0.2661, 0.2592, 0.25413, 0.24794, 0.24224, 0.2382, 0.23477, 0.2311, 0.22734, 0.22468, 0.2201, 0.21545, 0.21365, 0.20921, 0.2088]\n"
     ]
    }
   ],
   "source": [
    "print(loss)"
   ]
  },
  {
   "cell_type": "code",
   "execution_count": 15,
   "metadata": {},
   "outputs": [
    {
     "name": "stdout",
     "output_type": "stream",
     "text": [
      "[0, 50, 100, 150, 200, 250, 300, 350, 400, 450, 500, 550, 600, 650, 700, 750, 800, 850, 900, 950, 1000, 1050, 1100, 1150, 1200, 1250, 1300, 1350, 1400, 1450, 1500, 1550, 1600, 1650, 1700, 1750, 1800, 1850, 1900, 1950, 2000, 2050, 2100, 2150, 2200, 2250, 2300, 2350, 2400, 2450]\n"
     ]
    }
   ],
   "source": [
    "iters = [x for x in range(0,50*len(loss),50)]\n",
    "print(iters)"
   ]
  },
  {
   "cell_type": "code",
   "execution_count": 16,
   "metadata": {},
   "outputs": [
    {
     "data": {
      "text/plain": [
       "[<matplotlib.lines.Line2D at 0x7fb006b0c640>]"
      ]
     },
     "execution_count": 16,
     "metadata": {},
     "output_type": "execute_result"
    },
    {
     "data": {
      "image/png": "[encoded data removed]",
      "text/plain": [
       "<Figure size 432x288 with 1 Axes>"
      ]
     },
     "metadata": {
      "needs_background": "light"
     },
     "output_type": "display_data"
    }
   ],
   "source": [
    "plt.plot(iters,loss)"
   ]
  },
  {
   "cell_type": "code",
   "execution_count": null,
   "metadata": {},
   "outputs": [],
   "source": []
  }
 ],
 "metadata": {
  "kernelspec": {
   "display_name": "Python 3.8.13 ('GCN')",
   "language": "python",
   "name": "python3"
  },
  "language_info": {
   "codemirror_mode": {
    "name": "ipython",
    "version": 3
   },
   "file_extension": ".py",
   "mimetype": "text/x-python",
   "name": "python",
   "nbconvert_exporter": "python",
   "pygments_lexer": "ipython3",
   "version": "3.8.13"
  },
  "orig_nbformat": 4,
  "vscode": {
   "interpreter": {
    "hash": "e182acb5ef20b9ebade831c2f495095bb8e005b851e4fdd23f2caf08444d8814"
   }
  }
 },
 "nbformat": 4,
 "nbformat_minor": 2
}
