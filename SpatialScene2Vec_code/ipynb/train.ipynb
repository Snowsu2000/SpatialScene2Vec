{
 "cells": [
  {
   "cell_type": "code",
   "execution_count": 1,
   "metadata": {},
   "outputs": [],
   "source": [
    "import os\n",
    "import pickle\n",
    "from scene2vec_code.scene_data_load import load_scene_list\n",
    "from scene2vec_code.poi_data_load import load_poiset\n",
    "from scene2vec_code.center_data_load import load_centerset"
   ]
  },
  {
   "cell_type": "markdown",
   "metadata": {},
   "source": [
    "### 读取原始数据"
   ]
  },
  {
   "cell_type": "code",
   "execution_count": 2,
   "metadata": {},
   "outputs": [],
   "source": [
    "\n",
    "path = os.getcwd()\n",
    "data_path = '/data_in_use/'\n",
    "scene_data = pickle.load(open(path+data_path+'scene_ng_list.pkl','rb'))\n",
    "poiset = pickle.load(open(path+data_path+'pointset.pkl','rb'))\n",
    "centerset = pickle.load(open(path+data_path+'centersets.pkl','rb'))\n"
   ]
  },
  {
   "cell_type": "markdown",
   "metadata": {},
   "source": [
    "### 数据增强\n",
    "增删、平移获得相似数据"
   ]
  },
  {
   "cell_type": "code",
   "execution_count": 3,
   "metadata": {},
   "outputs": [],
   "source": [
    "from scene2vec_code.augmentation import SpatialSceneAugmentation"
   ]
  },
  {
   "cell_type": "code",
   "execution_count": 4,
   "metadata": {},
   "outputs": [],
   "source": [
    "#Initialize the aumentation methon\n",
    "Scene_aug = SpatialSceneAugmentation(poiset=poiset,centerset=centerset,max_poi_len=10)"
   ]
  },
  {
   "cell_type": "code",
   "execution_count": 5,
   "metadata": {},
   "outputs": [],
   "source": [
    "scene_ng_pair,new_poiset = Scene_aug(scene_data)"
   ]
  },
  {
   "cell_type": "markdown",
   "metadata": {},
   "source": [
    "### 数据格式整理"
   ]
  },
  {
   "cell_type": "code",
   "execution_count": 6,
   "metadata": {},
   "outputs": [],
   "source": [
    "scene_ng_list = load_scene_list(ng_data=scene_ng_pair)\n",
    "poi_ng_list,feature_embedding = load_poiset(poi_list=new_poiset)\n",
    "center_ng_list = load_centerset(center_list=centerset)"
   ]
  },
  {
   "cell_type": "markdown",
   "metadata": {},
   "source": [
    "### 加载训练器"
   ]
  },
  {
   "cell_type": "code",
   "execution_count": 8,
   "metadata": {},
   "outputs": [],
   "source": [
    "from scene2vec_code.Trainer import Trainer"
   ]
  },
  {
   "cell_type": "code",
   "execution_count": 9,
   "metadata": {},
   "outputs": [
    {
     "name": "stderr",
     "output_type": "stream",
     "text": [
      "/home/gesy/Scene2Vec_beta/scene2vec_code/module.py:61: UserWarning: nn.init.xavier_uniform is now deprecated in favor of nn.init.xavier_uniform_.\n",
      "  nn.init.xavier_uniform(self.linear.weight)\n",
      "2022-09-10 20:09:00,693 - INFO - Save file at Model_Sat Sep 10 20:08:57 2022.pth\n"
     ]
    },
    {
     "name": "stdout",
     "output_type": "stream",
     "text": [
      "Create model from Model_Sat Sep 10 20:08:57 2022.pth\n"
     ]
    }
   ],
   "source": [
    "trainer = Trainer(poiset=poi_ng_list,\n",
    "                  centerset=center_ng_list,\n",
    "                  ng_pair_list=scene_ng_list,\n",
    "                  feature_embedding=feature_embedding,\n",
    "                  console=True)"
   ]
  },
  {
   "cell_type": "code",
   "execution_count": 10,
   "metadata": {},
   "outputs": [
    {
     "name": "stderr",
     "output_type": "stream",
     "text": [
      "2022-09-10 20:09:01,459 - INFO - Iter 0; Train ema_loss 1.589971\n",
      "2022-09-10 20:09:01,460 - INFO - Iter: 0; Train HIT@1: 0.976562, HIT@3: 3.320312, HIT@5: 4.687500, HIT@10: 8.203125\n",
      "2022-09-10 20:09:07,111 - INFO - Iter 50; Train ema_loss 1.569373\n",
      "2022-09-10 20:09:07,112 - INFO - Iter: 50; Train HIT@1: 2.500000, HIT@3: 6.562500, HIT@5: 8.750000, HIT@10: 16.250000\n",
      "2022-09-10 20:09:12,615 - INFO - Iter 100; Train ema_loss 1.533709\n",
      "2022-09-10 20:09:12,618 - INFO - Iter: 100; Train HIT@1: 2.539062, HIT@3: 6.445312, HIT@5: 8.398438, HIT@10: 16.406250\n",
      "2022-09-10 20:09:18,194 - INFO - Iter 150; Train ema_loss 1.485786\n",
      "2022-09-10 20:09:18,195 - INFO - Iter: 150; Train HIT@1: 4.687500, HIT@3: 11.328125, HIT@5: 15.625000, HIT@10: 24.609375\n",
      "2022-09-10 20:09:23,861 - INFO - Iter 200; Train ema_loss 1.429229\n",
      "2022-09-10 20:09:23,864 - INFO - Iter: 200; Train HIT@1: 6.054688, HIT@3: 13.085938, HIT@5: 20.507812, HIT@10: 30.664062\n",
      "2022-09-10 20:09:30,053 - INFO - Iter 250; Train ema_loss 1.366666\n",
      "2022-09-10 20:09:30,056 - INFO - Iter: 250; Train HIT@1: 10.742188, HIT@3: 22.851562, HIT@5: 31.250000, HIT@10: 44.921875\n",
      "2022-09-10 20:09:35,993 - INFO - Iter 300; Train ema_loss 1.294163\n",
      "2022-09-10 20:09:35,995 - INFO - Iter: 300; Train HIT@1: 15.625000, HIT@3: 31.445312, HIT@5: 42.187500, HIT@10: 57.617188\n",
      "2022-09-10 20:09:42,548 - INFO - Iter 350; Train ema_loss 1.214909\n",
      "2022-09-10 20:09:42,550 - INFO - Iter: 350; Train HIT@1: 23.242188, HIT@3: 41.796875, HIT@5: 50.976562, HIT@10: 66.601562\n",
      "2022-09-10 20:09:48,615 - INFO - Iter 400; Train ema_loss 1.135677\n",
      "2022-09-10 20:09:48,617 - INFO - Iter: 400; Train HIT@1: 31.250000, HIT@3: 51.367188, HIT@5: 61.718750, HIT@10: 72.460938\n",
      "2022-09-10 20:09:54,666 - INFO - Iter 450; Train ema_loss 1.052633\n",
      "2022-09-10 20:09:54,667 - INFO - Iter: 450; Train HIT@1: 41.015625, HIT@3: 60.937500, HIT@5: 74.023438, HIT@10: 84.375000\n",
      "2022-09-10 20:10:00,927 - INFO - Iter 500; Train ema_loss 0.972762\n",
      "2022-09-10 20:10:00,929 - INFO - Iter: 500; Train HIT@1: 46.679688, HIT@3: 68.554688, HIT@5: 78.906250, HIT@10: 89.062500\n",
      "2022-09-10 20:10:06,399 - INFO - Iter 550; Train ema_loss 0.892354\n",
      "2022-09-10 20:10:06,401 - INFO - Iter: 550; Train HIT@1: 52.734375, HIT@3: 76.171875, HIT@5: 85.742188, HIT@10: 92.187500\n",
      "2022-09-10 20:10:12,895 - INFO - Iter 600; Train ema_loss 0.816873\n",
      "2022-09-10 20:10:12,896 - INFO - Iter: 600; Train HIT@1: 60.937500, HIT@3: 83.984375, HIT@5: 90.625000, HIT@10: 95.898438\n",
      "2022-09-10 20:10:18,357 - INFO - Iter 650; Train ema_loss 0.750602\n",
      "2022-09-10 20:10:18,359 - INFO - Iter: 650; Train HIT@1: 66.015625, HIT@3: 84.570312, HIT@5: 90.820312, HIT@10: 96.093750\n",
      "2022-09-10 20:10:23,945 - INFO - Iter 700; Train ema_loss 0.687319\n",
      "2022-09-10 20:10:23,946 - INFO - Iter: 700; Train HIT@1: 67.578125, HIT@3: 88.671875, HIT@5: 94.531250, HIT@10: 98.046875\n",
      "2022-09-10 20:10:30,234 - INFO - Iter 750; Train ema_loss 0.631639\n",
      "2022-09-10 20:10:30,237 - INFO - Iter: 750; Train HIT@1: 76.757812, HIT@3: 91.601562, HIT@5: 95.898438, HIT@10: 98.632812\n",
      "2022-09-10 20:10:36,128 - INFO - Iter 800; Train ema_loss 0.584956\n",
      "2022-09-10 20:10:36,129 - INFO - Iter: 800; Train HIT@1: 74.804688, HIT@3: 92.382812, HIT@5: 96.289062, HIT@10: 99.023438\n",
      "2022-09-10 20:10:42,076 - INFO - Iter 850; Train ema_loss 0.544355\n",
      "2022-09-10 20:10:42,078 - INFO - Iter: 850; Train HIT@1: 77.734375, HIT@3: 91.992188, HIT@5: 94.921875, HIT@10: 98.046875\n",
      "2022-09-10 20:10:47,738 - INFO - Iter 900; Train ema_loss 0.509982\n",
      "2022-09-10 20:10:47,740 - INFO - Iter: 900; Train HIT@1: 79.101562, HIT@3: 93.554688, HIT@5: 96.093750, HIT@10: 98.242188\n",
      "2022-09-10 20:10:53,445 - INFO - Iter 950; Train ema_loss 0.476576\n",
      "2022-09-10 20:10:53,446 - INFO - Iter: 950; Train HIT@1: 78.125000, HIT@3: 94.726562, HIT@5: 97.851562, HIT@10: 99.414062\n",
      "2022-09-10 20:10:59,549 - INFO - Iter 1000; Train ema_loss 0.447406\n",
      "2022-09-10 20:10:59,551 - INFO - Iter: 1000; Train HIT@1: 80.273438, HIT@3: 94.140625, HIT@5: 96.875000, HIT@10: 98.828125\n",
      "2022-09-10 20:11:05,185 - INFO - Iter 1050; Train ema_loss 0.424791\n",
      "2022-09-10 20:11:05,186 - INFO - Iter: 1050; Train HIT@1: 81.835938, HIT@3: 96.875000, HIT@5: 98.828125, HIT@10: 99.414062\n",
      "2022-09-10 20:11:11,129 - INFO - Iter 1100; Train ema_loss 0.402176\n",
      "2022-09-10 20:11:11,131 - INFO - Iter: 1100; Train HIT@1: 83.789062, HIT@3: 95.703125, HIT@5: 98.046875, HIT@10: 99.414062\n",
      "2022-09-10 20:11:17,449 - INFO - Iter 1150; Train ema_loss 0.382780\n",
      "2022-09-10 20:11:17,450 - INFO - Iter: 1150; Train HIT@1: 85.156250, HIT@3: 95.703125, HIT@5: 98.046875, HIT@10: 99.609375\n",
      "2022-09-10 20:11:23,589 - INFO - Iter 1200; Train ema_loss 0.367849\n",
      "2022-09-10 20:11:23,590 - INFO - Iter: 1200; Train HIT@1: 83.203125, HIT@3: 97.460938, HIT@5: 98.828125, HIT@10: 99.609375\n",
      "2022-09-10 20:11:29,547 - INFO - Iter 1250; Train ema_loss 0.354181\n",
      "2022-09-10 20:11:29,549 - INFO - Iter: 1250; Train HIT@1: 88.281250, HIT@3: 97.851562, HIT@5: 98.828125, HIT@10: 99.414062\n",
      "2022-09-10 20:11:35,484 - INFO - Iter 1300; Train ema_loss 0.342493\n",
      "2022-09-10 20:11:35,485 - INFO - Iter: 1300; Train HIT@1: 85.546875, HIT@3: 98.046875, HIT@5: 99.804688, HIT@10: 100.000000\n",
      "2022-09-10 20:11:40,937 - INFO - Iter 1350; Train ema_loss 0.330069\n",
      "2022-09-10 20:11:40,938 - INFO - Iter: 1350; Train HIT@1: 87.890625, HIT@3: 98.046875, HIT@5: 99.023438, HIT@10: 99.414062\n",
      "2022-09-10 20:11:47,032 - INFO - Iter 1400; Train ema_loss 0.318497\n",
      "2022-09-10 20:11:47,033 - INFO - Iter: 1400; Train HIT@1: 86.132812, HIT@3: 97.460938, HIT@5: 98.632812, HIT@10: 99.414062\n",
      "2022-09-10 20:11:52,623 - INFO - Iter 1450; Train ema_loss 0.309412\n",
      "2022-09-10 20:11:52,624 - INFO - Iter: 1450; Train HIT@1: 87.500000, HIT@3: 98.242188, HIT@5: 100.000000, HIT@10: 100.000000\n",
      "2022-09-10 20:11:58,764 - INFO - Iter 1500; Train ema_loss 0.299290\n",
      "2022-09-10 20:11:58,765 - INFO - Iter: 1500; Train HIT@1: 85.351562, HIT@3: 97.070312, HIT@5: 98.632812, HIT@10: 99.218750\n",
      "2022-09-10 20:12:04,597 - INFO - Iter 1550; Train ema_loss 0.290490\n",
      "2022-09-10 20:12:04,599 - INFO - Iter: 1550; Train HIT@1: 82.617188, HIT@3: 98.632812, HIT@5: 99.414062, HIT@10: 100.000000\n",
      "2022-09-10 20:12:10,853 - INFO - Iter 1600; Train ema_loss 0.284709\n",
      "2022-09-10 20:12:10,856 - INFO - Iter: 1600; Train HIT@1: 83.398438, HIT@3: 98.437500, HIT@5: 99.218750, HIT@10: 100.000000\n",
      "2022-09-10 20:12:17,151 - INFO - Iter 1650; Train ema_loss 0.279260\n",
      "2022-09-10 20:12:17,154 - INFO - Iter: 1650; Train HIT@1: 83.789062, HIT@3: 98.437500, HIT@5: 99.804688, HIT@10: 100.000000\n",
      "2022-09-10 20:12:23,372 - INFO - Iter 1700; Train ema_loss 0.274665\n",
      "2022-09-10 20:12:23,373 - INFO - Iter: 1700; Train HIT@1: 83.203125, HIT@3: 97.070312, HIT@5: 98.437500, HIT@10: 99.609375\n",
      "2022-09-10 20:12:29,741 - INFO - Iter 1750; Train ema_loss 0.267300\n",
      "2022-09-10 20:12:29,744 - INFO - Iter: 1750; Train HIT@1: 83.203125, HIT@3: 98.046875, HIT@5: 99.218750, HIT@10: 99.804688\n",
      "2022-09-10 20:12:35,630 - INFO - Iter 1800; Train ema_loss 0.261501\n",
      "2022-09-10 20:12:35,631 - INFO - Iter: 1800; Train HIT@1: 78.515625, HIT@3: 97.265625, HIT@5: 99.023438, HIT@10: 99.609375\n",
      "2022-09-10 20:12:41,732 - INFO - Iter 1850; Train ema_loss 0.256855\n",
      "2022-09-10 20:12:41,733 - INFO - Iter: 1850; Train HIT@1: 78.906250, HIT@3: 96.679688, HIT@5: 99.023438, HIT@10: 99.414062\n",
      "2022-09-10 20:12:47,453 - INFO - Iter 1900; Train ema_loss 0.250475\n",
      "2022-09-10 20:12:47,455 - INFO - Iter: 1900; Train HIT@1: 73.828125, HIT@3: 98.242188, HIT@5: 99.414062, HIT@10: 99.804688\n",
      "2022-09-10 20:12:53,355 - INFO - Iter 1950; Train ema_loss 0.244534\n",
      "2022-09-10 20:12:53,356 - INFO - Iter: 1950; Train HIT@1: 71.875000, HIT@3: 97.851562, HIT@5: 99.609375, HIT@10: 99.804688\n",
      "2022-09-10 20:12:59,313 - INFO - Iter 2000; Train ema_loss 0.240342\n",
      "2022-09-10 20:12:59,314 - INFO - Iter: 2000; Train HIT@1: 58.789062, HIT@3: 93.945312, HIT@5: 99.218750, HIT@10: 99.804688\n",
      "2022-09-10 20:13:05,250 - INFO - Iter 2050; Train ema_loss 0.236673\n",
      "2022-09-10 20:13:05,252 - INFO - Iter: 2050; Train HIT@1: 97.500000, HIT@3: 100.000000, HIT@5: 100.000000, HIT@10: 100.000000\n",
      "2022-09-10 20:13:10,736 - INFO - Iter 2100; Train ema_loss 0.233763\n",
      "2022-09-10 20:13:10,738 - INFO - Iter: 2100; Train HIT@1: 91.666664, HIT@3: 98.541664, HIT@5: 99.583328, HIT@10: 100.000000\n",
      "2022-09-10 20:13:16,777 - INFO - Iter 2150; Train ema_loss 0.229889\n",
      "2022-09-10 20:13:16,778 - INFO - Iter: 2150; Train HIT@1: 95.312500, HIT@3: 99.804688, HIT@5: 99.804688, HIT@10: 99.804688\n",
      "2022-09-10 20:13:23,064 - INFO - Iter 2200; Train ema_loss 0.226625\n",
      "2022-09-10 20:13:23,066 - INFO - Iter: 2200; Train HIT@1: 93.554688, HIT@3: 99.023438, HIT@5: 99.804688, HIT@10: 100.000000\n",
      "2022-09-10 20:13:28,739 - INFO - Iter 2250; Train ema_loss 0.222399\n",
      "2022-09-10 20:13:28,740 - INFO - Iter: 2250; Train HIT@1: 93.164062, HIT@3: 99.609375, HIT@5: 99.804688, HIT@10: 100.000000\n",
      "2022-09-10 20:13:34,298 - INFO - Iter 2300; Train ema_loss 0.218620\n",
      "2022-09-10 20:13:34,300 - INFO - Iter: 2300; Train HIT@1: 94.335938, HIT@3: 99.414062, HIT@5: 99.609375, HIT@10: 100.000000\n",
      "2022-09-10 20:13:40,244 - INFO - Iter 2350; Train ema_loss 0.216685\n",
      "2022-09-10 20:13:40,247 - INFO - Iter: 2350; Train HIT@1: 92.382812, HIT@3: 99.218750, HIT@5: 99.609375, HIT@10: 100.000000\n",
      "2022-09-10 20:13:45,840 - INFO - Iter 2400; Train ema_loss 0.212252\n",
      "2022-09-10 20:13:45,841 - INFO - Iter: 2400; Train HIT@1: 93.554688, HIT@3: 99.414062, HIT@5: 99.804688, HIT@10: 100.000000\n",
      "2022-09-10 20:13:51,748 - INFO - Iter 2450; Train ema_loss 0.212257\n",
      "2022-09-10 20:13:51,749 - INFO - Iter: 2450; Train HIT@1: 93.164062, HIT@3: 99.023438, HIT@5: 99.414062, HIT@10: 99.804688\n"
     ]
    }
   ],
   "source": [
    "trainer.train()"
   ]
  },
  {
   "cell_type": "code",
   "execution_count": null,
   "metadata": {},
   "outputs": [],
   "source": []
  }
 ],
 "metadata": {
  "kernelspec": {
   "display_name": "Python 3.8.13 ('GCN')",
   "language": "python",
   "name": "python3"
  },
  "language_info": {
   "codemirror_mode": {
    "name": "ipython",
    "version": 3
   },
   "file_extension": ".py",
   "mimetype": "text/x-python",
   "name": "python",
   "nbconvert_exporter": "python",
   "pygments_lexer": "ipython3",
   "version": "3.8.13"
  },
  "orig_nbformat": 4,
  "vscode": {
   "interpreter": {
    "hash": "e182acb5ef20b9ebade831c2f495095bb8e005b851e4fdd23f2caf08444d8814"
   }
  }
 },
 "nbformat": 4,
 "nbformat_minor": 2
}
