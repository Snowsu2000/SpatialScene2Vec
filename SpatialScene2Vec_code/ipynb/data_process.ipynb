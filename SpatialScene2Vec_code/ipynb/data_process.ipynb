{
 "cells": [
  {
   "cell_type": "markdown",
   "metadata": {},
   "source": [
    "## 数据再处理\n",
    "重新熟悉数据格式\n",
    "\n",
    "data.pkl是原始数据\n",
    "\n",
    "data_all.pkl是存储ID的数据"
   ]
  },
  {
   "cell_type": "code",
   "execution_count": 1,
   "metadata": {},
   "outputs": [],
   "source": [
    "import pickle\n",
    "from pyproj import CRS\n",
    "from pyproj import Transformer"
   ]
  },
  {
   "cell_type": "code",
   "execution_count": 2,
   "metadata": {},
   "outputs": [],
   "source": [
    "data = pickle.load(open('data/data.pkl','rb'))\n",
    "data_all = pickle.load(open('data/data_all.pkl','rb'))\n",
    "center_list = pickle.load(open('data/center_list.pkl','rb'))\n",
    "centersets = pickle.load(open('data/centersets.pkl','rb'))\n",
    "poi_list = pickle.load(open('data/poi_list.pkl','rb'))\n",
    "pointset = pickle.load(open('data/pointset.pkl','rb'))"
   ]
  },
  {
   "cell_type": "code",
   "execution_count": 14,
   "metadata": {},
   "outputs": [],
   "source": [
    "import os\n",
    "path = os.getcwd()\n",
    "data_path = '/data_in_use/'\n",
    "poiset = pickle.load(open(path+data_path+'pointset.pkl','rb'))\n",
    "poiset[15375][1] = 21\n",
    "for index in poiset:\n",
    "    if index[1] == 22:\n",
    "        print(index)\n",
    "with open(path+data_path+'pointset.pkl','wb') as f:\n",
    "    pickle.dump(poiset,f)"
   ]
  },
  {
   "cell_type": "code",
   "execution_count": 5,
   "metadata": {},
   "outputs": [
    {
     "name": "stdout",
     "output_type": "stream",
     "text": [
      "{'center': '保合庄村西183米', 'center_pos': '[116.2, 39.74]', 'center_bd_pos': [116.2126920861996, 39.74699595207627], 'pois': [['北京市房山区', '保合庄村', '行政地标', '西', [116.21421499267282, 39.74650891042973]], ['北京市房山区', '保和庄', '行政地标', '南', [116.21344244993425, 39.749046972523644]], ['长阳镇牛家场社区卫生服务站附近', '牛家场村', '行政地标', '东南', [116.20887007488845, 39.74861009969832]]]}\n"
     ]
    }
   ],
   "source": [
    "print(data[0])"
   ]
  },
  {
   "cell_type": "code",
   "execution_count": 3,
   "metadata": {},
   "outputs": [
    {
     "name": "stdout",
     "output_type": "stream",
     "text": [
      "6565 6565 6565 6565 58276 58276 58869\n"
     ]
    }
   ],
   "source": [
    "print(len(data),len(data_all),len(center_list),len(centersets),len(poi_list),len(pointset))"
   ]
  },
  {
   "cell_type": "code",
   "execution_count": 4,
   "metadata": {},
   "outputs": [
    {
     "name": "stdout",
     "output_type": "stream",
     "text": [
      "['南平庄幼儿园附近', '修理电动车自行车', '购物', '南', [116.24828772066628, 39.95336278667921]] [0, 0, (12940700.194654526, 4859167.399387702)]\n"
     ]
    }
   ],
   "source": [
    "print(poi_list[0],pointset[0])"
   ]
  },
  {
   "cell_type": "code",
   "execution_count": 3,
   "metadata": {},
   "outputs": [],
   "source": [
    "crs = CRS.from_epsg(4326)\n",
    "to_crs = CRS.from_epsg(3857)\n",
    "transformer = Transformer.from_crs(crs,to_crs)\n",
    "transformer_re = Transformer.from_crs(to_crs,crs)"
   ]
  },
  {
   "cell_type": "code",
   "execution_count": 5,
   "metadata": {},
   "outputs": [
    {
     "name": "stdout",
     "output_type": "stream",
     "text": [
      "(12940700.194654526, 4859167.399387702)\n",
      "(12940711.326603608, 4859181.9212121405)\n",
      "(11.131949082016945, 14.521824438124895)\n"
     ]
    }
   ],
   "source": [
    "a=transformer.transform(39.95336278667921,116.24828772066628)\n",
    "b=transformer.transform(39.95346278667921,116.24838772066628)\n",
    "print(a)\n",
    "print(b)\n",
    "print((b[0]-a[0],b[1]-a[1]))"
   ]
  },
  {
   "cell_type": "code",
   "execution_count": 6,
   "metadata": {},
   "outputs": [
    {
     "data": {
      "text/plain": [
       "(0.0, 0.0)"
      ]
     },
     "execution_count": 6,
     "metadata": {},
     "output_type": "execute_result"
    }
   ],
   "source": [
    "transformer.transform(0, 0)"
   ]
  },
  {
   "cell_type": "code",
   "execution_count": 9,
   "metadata": {},
   "outputs": [
    {
     "name": "stdout",
     "output_type": "stream",
     "text": [
      "[0, [23030, 4498, 35285], [5063, 4651, 4583, 4036, 5208, 5069, 5068, 4922, 4852, 4997, 188, 317, 3629, 257, 2430, 4104, 5755, 3696, 528, 9, 5276, 4786, 649, 5754, 4996, 316, 256, 4925, 4855, 372, 5210, 4926, 5280, 5832, 6381, 5281, 3782, 5274, 4787, 5136]]\n"
     ]
    }
   ],
   "source": [
    "print(data_all[0])"
   ]
  },
  {
   "cell_type": "code",
   "execution_count": 11,
   "metadata": {},
   "outputs": [
    {
     "data": {
      "text/plain": [
       "6565"
      ]
     },
     "execution_count": 11,
     "metadata": {},
     "output_type": "execute_result"
    }
   ],
   "source": [
    "len(data_all)"
   ]
  },
  {
   "cell_type": "code",
   "execution_count": 12,
   "metadata": {},
   "outputs": [],
   "source": [
    "num_poi = {\n",
    "    0:0,\n",
    "    1:0,\n",
    "    2:0,\n",
    "    3:0,\n",
    "    4:0,\n",
    "    5:0,\n",
    "    6:0,\n",
    "    7:0,\n",
    "    8:0,\n",
    "    9:0,\n",
    "    10:0\n",
    "}"
   ]
  },
  {
   "cell_type": "code",
   "execution_count": 13,
   "metadata": {},
   "outputs": [],
   "source": [
    "for index in data_all:\n",
    "    num_poi[len(index[1])]+=1"
   ]
  },
  {
   "cell_type": "code",
   "execution_count": 14,
   "metadata": {},
   "outputs": [
    {
     "name": "stdout",
     "output_type": "stream",
     "text": [
      "{0: 85, 1: 95, 2: 113, 3: 111, 4: 93, 5: 132, 6: 196, 7: 276, 8: 367, 9: 424, 10: 4673}\n"
     ]
    }
   ],
   "source": [
    "print(num_poi)"
   ]
  },
  {
   "cell_type": "markdown",
   "metadata": {},
   "source": [
    "### Model_use_data\n",
    "切分完且进行增删之后的场景数据，留着可能会有用\n"
   ]
  },
  {
   "cell_type": "code",
   "execution_count": 8,
   "metadata": {},
   "outputs": [],
   "source": [
    "train_data = pickle.load(open('model_use_data_cv/train_data.pkl','rb'))\n",
    "test_data = pickle.load(open('model_use_data_cv/test_data.pkl','rb'))\n",
    "val_data = pickle.load(open('model_use_data_cv/val_data.pkl','rb'))"
   ]
  },
  {
   "cell_type": "code",
   "execution_count": 12,
   "metadata": {},
   "outputs": [
    {
     "name": "stdout",
     "output_type": "stream",
     "text": [
      "[0, [23030, 4498, 35285], 'train', [257, 2430, 4855, 5281, 649, 5276, 4925, 4997, 5280, 5063]]\n",
      "[1, [9644, 54790, 39300], 'train', [2412, 3030, 4657, 6160, 3441, 4691, 5005, 5365, 5317, 5245]]\n",
      "[1, [7692, 19821, 26116], 'train', [2412, 3030, 4657, 6160, 3441, 4691, 5005, 5365, 5317, 5245]]\n",
      "[1, [50361, 9038, 9038], 'train', [2412, 3030, 4657, 6160, 3441, 4691, 5005, 5365, 5317, 5245]]\n"
     ]
    }
   ],
   "source": [
    "print(train_data[0])\n",
    "print(train_data[1])\n",
    "print(train_data[2])\n",
    "print(train_data[3])"
   ]
  },
  {
   "cell_type": "markdown",
   "metadata": {},
   "source": [
    "### 全新数据创建\n",
    "不进行场景切分，做好映射"
   ]
  },
  {
   "cell_type": "code",
   "execution_count": 13,
   "metadata": {},
   "outputs": [],
   "source": [
    "import pickle\n",
    "from pyproj import CRS\n",
    "from pyproj import Transformer"
   ]
  },
  {
   "cell_type": "code",
   "execution_count": 14,
   "metadata": {},
   "outputs": [],
   "source": [
    "data = pickle.load(open('data/data.pkl','rb'))\n",
    "data_all = pickle.load(open('data/data_all.pkl','rb'))\n",
    "center_list = pickle.load(open('data/center_list.pkl','rb'))\n",
    "centersets = pickle.load(open('data/centersets.pkl','rb'))\n",
    "poi_list = pickle.load(open('data/poi_list.pkl','rb'))\n",
    "pointset = pickle.load(open('data/pointset.pkl','rb'))"
   ]
  },
  {
   "cell_type": "code",
   "execution_count": 19,
   "metadata": {},
   "outputs": [
    {
     "name": "stdout",
     "output_type": "stream",
     "text": [
      "[0, [23030, 4498, 35285], [5063, 4651, 4583, 4036, 5208, 5069, 5068, 4922, 4852, 4997, 188, 317, 3629, 257, 2430, 4104, 5755, 3696, 528, 9, 5276, 4786, 649, 5754, 4996, 316, 256, 4925, 4855, 372, 5210, 4926, 5280, 5832, 6381, 5281, 3782, 5274, 4787, 5136]]\n",
      "[0, (12936737.706751233, 4829244.247529319)]\n",
      "[0, 0, (12940700.194654526, 4859167.399387702)]\n"
     ]
    }
   ],
   "source": [
    "print(data_all[0])\n",
    "print(centersets[0])\n",
    "print(pointset[0])"
   ]
  },
  {
   "cell_type": "code",
   "execution_count": 6,
   "metadata": {},
   "outputs": [
    {
     "data": {
      "text/plain": [
       "[[2], [1], [3], [4]]"
      ]
     },
     "execution_count": 6,
     "metadata": {},
     "output_type": "execute_result"
    }
   ],
   "source": [
    "def a():\n",
    "    return [[2],[1]]+[[3],[4]]\n",
    "a()\n"
   ]
  },
  {
   "cell_type": "code",
   "execution_count": 8,
   "metadata": {},
   "outputs": [],
   "source": [
    "import random"
   ]
  },
  {
   "cell_type": "code",
   "execution_count": 16,
   "metadata": {},
   "outputs": [
    {
     "name": "stdout",
     "output_type": "stream",
     "text": [
      "-0.6792220717478128\n",
      "-0.46997229989002154\n",
      "0.17580820426599142\n",
      "0.2451663208384256\n",
      "-0.467158939544132\n",
      "0.5314484470824026\n",
      "-0.1631932892440311\n",
      "0.5791435154824149\n",
      "-0.7240839868924884\n",
      "0.9126057866409374\n"
     ]
    }
   ],
   "source": [
    "for i in range(10):\n",
    "    print(random.random()*2-1)"
   ]
  },
  {
   "cell_type": "code",
   "execution_count": 15,
   "metadata": {},
   "outputs": [
    {
     "data": {
      "text/plain": [
       "['保合庄村西183米', '[116.2, 39.74]', [116.2126920861996, 39.74699595207627]]"
      ]
     },
     "execution_count": 15,
     "metadata": {},
     "output_type": "execute_result"
    }
   ],
   "source": [
    "center_list[0]"
   ]
  },
  {
   "cell_type": "code",
   "execution_count": 17,
   "metadata": {},
   "outputs": [
    {
     "data": {
      "text/plain": [
       "[0, 0, (12940700.194654526, 4859167.399387702)]"
      ]
     },
     "execution_count": 17,
     "metadata": {},
     "output_type": "execute_result"
    }
   ],
   "source": [
    "pointset[0]"
   ]
  },
  {
   "cell_type": "code",
   "execution_count": 19,
   "metadata": {},
   "outputs": [
    {
     "data": {
      "text/plain": [
       "[0,\n",
       " [23030, 4498, 35285],\n",
       " [5063,\n",
       "  4651,\n",
       "  4583,\n",
       "  4036,\n",
       "  5208,\n",
       "  5069,\n",
       "  5068,\n",
       "  4922,\n",
       "  4852,\n",
       "  4997,\n",
       "  188,\n",
       "  317,\n",
       "  3629,\n",
       "  257,\n",
       "  2430,\n",
       "  4104,\n",
       "  5755,\n",
       "  3696,\n",
       "  528,\n",
       "  9,\n",
       "  5276,\n",
       "  4786,\n",
       "  649,\n",
       "  5754,\n",
       "  4996,\n",
       "  316,\n",
       "  256,\n",
       "  4925,\n",
       "  4855,\n",
       "  372,\n",
       "  5210,\n",
       "  4926,\n",
       "  5280,\n",
       "  5832,\n",
       "  6381,\n",
       "  5281,\n",
       "  3782,\n",
       "  5274,\n",
       "  4787,\n",
       "  5136]]"
      ]
     },
     "execution_count": 19,
     "metadata": {},
     "output_type": "execute_result"
    }
   ],
   "source": [
    "data_all[0]"
   ]
  },
  {
   "cell_type": "code",
   "execution_count": 20,
   "metadata": {},
   "outputs": [],
   "source": [
    "import numpy as np"
   ]
  },
  {
   "cell_type": "code",
   "execution_count": 21,
   "metadata": {},
   "outputs": [
    {
     "data": {
      "text/plain": [
       "array([  2,   5,  12,   6,   5, 234])"
      ]
     },
     "execution_count": 21,
     "metadata": {},
     "output_type": "execute_result"
    }
   ],
   "source": [
    "a = [12,3,234,5,5,6,1,2]\n",
    "np.random.choice(a,len(a)-2,replace=False)"
   ]
  },
  {
   "cell_type": "code",
   "execution_count": 22,
   "metadata": {},
   "outputs": [
    {
     "data": {
      "text/plain": [
       "array([  2,   3,   1, 234, 234, 234])"
      ]
     },
     "execution_count": 22,
     "metadata": {},
     "output_type": "execute_result"
    }
   ],
   "source": [
    "np.random.choice(a,len(a)-2,replace=True)"
   ]
  },
  {
   "cell_type": "markdown",
   "metadata": {},
   "source": [
    "### 数据增强代码测试"
   ]
  },
  {
   "cell_type": "code",
   "execution_count": 1,
   "metadata": {},
   "outputs": [],
   "source": [
    "import random\n",
    "from pyproj import CRS\n",
    "from pyproj import Transformer\n",
    "import numpy as np\n",
    "class SpatialSceneAugmentation:\n",
    "    def __init__(self,poiset,centerset,max_poi_len=10) -> None:\n",
    "        self.poiset = poiset.copy()\n",
    "        self.centerset = centerset\n",
    "        self.max_poi_len = max_poi_len\n",
    "        # self.shift = 0.0001\n",
    "        self.p = 0.8\n",
    "        self.crs_org = CRS.from_epsg(4326)\n",
    "        self.crs_convert = CRS.from_epsg(3857)\n",
    "        self.transformer = Transformer.from_crs(self.crs_org,self.crs_convert)\n",
    "        self.transformer_reverse = Transformer.from_crs(self.crs_convert,self.crs_org)\n",
    "        # self.scene_add_list =  [3,6,7,9,16,17]\n",
    "        self.poi_len = len(self.poiset)\n",
    "        # print(self.poi_len)\n",
    "    def __call__(self, scnen_list):\n",
    "        scene_list_pair = []\n",
    "        for scene in scnen_list:\n",
    "            scene_len = len(scene[1])\n",
    "            org_scene = scene.copy()\n",
    "            #1.delete the scenes with 0 poi\n",
    "            if scene_len == 0:\n",
    "                continue\n",
    "            #2.if the num of pois in scene is less than 5\n",
    "            #  add 1-3 pois randomly\n",
    "            if scene_len < 5:\n",
    "                sim_scene,new_poiset = self.add_or_delete(scene,is_add=True)\n",
    "                self.poiset += new_poiset\n",
    "                # print(len(self.poiset),self.poi_len)\n",
    "            else:\n",
    "                sim_scene = self.add_or_delete(scene,is_add=False)\n",
    "                # print(len(self.poiset),self.poi_len)\n",
    "            sim_scene,new_poiset = self.shifting(sim_scene)\n",
    "            self.poiset += new_poiset\n",
    "            # print(len(self.poiset),self.poi_len)\n",
    "            org_scene,new_poiset = self.padding(org_scene)\n",
    "            self.poiset += new_poiset\n",
    "            # print(len(self.poiset),self.poi_len)\n",
    "            sim_scene,new_poiset = self.padding(sim_scene)\n",
    "            self.poiset += new_poiset\n",
    "            # print(len(self.poiset),self.poi_len)\n",
    "            scene_list_pair.append([org_scene,sim_scene])\n",
    "        return scene_list_pair,self.poiset\n",
    "\n",
    "\n",
    "\n",
    "\n",
    "    def add_or_delete(self,scene,is_add=True):\n",
    "        if is_add:\n",
    "            num = random.randint(0,2)\n",
    "            center_x,center_y = self.transformer_reverse.transform(self.centerset[scene[0]][1][0],self.centerset[scene[0]][1][1])\n",
    "            new_pois_num = []\n",
    "            new_poiset = []\n",
    "            for i in range(num):\n",
    "                new_poi_loc = self.transformer.transform((random.random()*2-1)*0.002+center_x,\n",
    "                                               (random.random()*2-1)*0.002+center_y)\n",
    "                new_poi_type = random.randint(0,21)\n",
    "                new_pois_num.append(self.poi_len+i)\n",
    "                new_poiset.append([self.poi_len+i,new_poi_type,new_poi_loc])\n",
    "            sim_scene = [scene[0],scene[1]+new_pois_num,scene[2]]\n",
    "            self.poi_len += num\n",
    "            return sim_scene,new_poiset\n",
    "        else:\n",
    "            num = random.randint(0,2)\n",
    "            new_poi_list = list(np.random.choice(scene[1],len(scene[1])-num,replace=False))\n",
    "            sim_scene = [scene[0],new_poi_list,scene[2]]\n",
    "            return sim_scene\n",
    "\n",
    "\n",
    "    def shifting(self,scene):\n",
    "        num = random.randint(0,len(scene[1])-1)\n",
    "        new_poiset = []\n",
    "        if num == 0:\n",
    "            return scene,new_poiset\n",
    "        else:\n",
    "            shift_poi_list = list(np.random.choice(scene[1],num,replace=False))\n",
    "            # print(shift_poi_list)\n",
    "            new_poi_list = []\n",
    "            for poi_id in scene[1]:\n",
    "                if poi_id in shift_poi_list:\n",
    "                    continue\n",
    "                new_poi_list.append(poi_id)\n",
    "            for i,poi_id in enumerate(shift_poi_list):\n",
    "                # print(poi_id)\n",
    "                org_poi_x,org_poi_y = self.transformer_reverse.transform(self.poiset[poi_id][2][0],self.poiset[poi_id][2][1])\n",
    "                shift_poi_loc = self.transformer.transform((random.random()*2-1)*0.0005+org_poi_x,\n",
    "                                                            (random.random()*2-1)*0.0005+org_poi_y)\n",
    "                new_poi_list.append(self.poi_len+i)\n",
    "                new_poiset.append([self.poi_len+i,self.poiset[poi_id][1],shift_poi_loc])\n",
    "            self.poi_len += num\n",
    "            sim_scene = [scene[0],new_poi_list,scene[2]]\n",
    "            return sim_scene,new_poiset             \n",
    "\n",
    "    def padding(self,scene):\n",
    "        new_poiset = []\n",
    "        padding_len = self.max_poi_len - len(scene[1])\n",
    "        new_poi_list = scene[1].copy()\n",
    "        if padding_len == 0:\n",
    "            return scene,new_poiset\n",
    "        else:\n",
    "            for i in range(padding_len):\n",
    "                \n",
    "                poi_choose = int(np.random.choice(scene[1],1,replace=False)[0])\n",
    "                # print(len(self.poiset),poi_choose)\n",
    "                org_poi_x,org_poi_y = self.transformer_reverse.transform(self.poiset[poi_choose][2][0],self.poiset[poi_choose][2][1])\n",
    "                padding_poi_loc = self.transformer.transform((random.random()*2-1)*0.0003+org_poi_x,\n",
    "                                                            (random.random()*2-1)*0.0003+org_poi_y)\n",
    "                new_poi_list.append(self.poi_len+i)\n",
    "                new_poiset.append([self.poi_len+i,21,padding_poi_loc])\n",
    "            padding_scene = [scene[0],new_poi_list,scene[2]]\n",
    "            self.poi_len += padding_len\n",
    "            return padding_scene,new_poiset"
   ]
  },
  {
   "cell_type": "code",
   "execution_count": 6,
   "metadata": {},
   "outputs": [],
   "source": [
    "import pickle\n",
    "pointset = pickle.load(open('./data_in_use/pointset.pkl','rb'))\n",
    "centersets = pickle.load(open('./data_in_use/centersets.pkl','rb'))\n",
    "scene_ng_list = pickle.load(open('./data_in_use/scene_ng_list.pkl','rb'))"
   ]
  },
  {
   "cell_type": "code",
   "execution_count": 7,
   "metadata": {},
   "outputs": [],
   "source": [
    "#原poi_len:58276\n",
    "aug = SpatialSceneAugmentation(poiset=pointset,centerset=centersets)\n",
    "scene_list,new_poiset = aug(data_all)"
   ]
  },
  {
   "cell_type": "code",
   "execution_count": 8,
   "metadata": {},
   "outputs": [
    {
     "name": "stdout",
     "output_type": "stream",
     "text": [
      "[0, [23030, 4498, 35285, 58280, 58281, 58282, 58283, 58284, 58285, 58286], [5063, 4651, 4583, 4036, 5208, 5069, 5068, 4922, 4852, 4997, 188, 317, 3629, 257, 2430, 4104, 5755, 3696, 528, 9, 5276, 4786, 649, 5754, 4996, 316, 256, 4925, 4855, 372, 5210, 4926, 5280, 5832, 6381, 5281, 3782, 5274, 4787, 5136]] [0, [23030, 4498, 35285, 58276, 58277, 58279, 58287, 58288, 58289, 58290], [5063, 4651, 4583, 4036, 5208, 5069, 5068, 4922, 4852, 4997, 188, 317, 3629, 257, 2430, 4104, 5755, 3696, 528, 9, 5276, 4786, 649, 5754, 4996, 316, 256, 4925, 4855, 372, 5210, 4926, 5280, 5832, 6381, 5281, 3782, 5274, 4787, 5136]]\n"
     ]
    }
   ],
   "source": [
    "print(scene_list[0][0],scene_list[0][1])"
   ]
  },
  {
   "cell_type": "code",
   "execution_count": 9,
   "metadata": {},
   "outputs": [
    {
     "data": {
      "text/plain": [
       "100424"
      ]
     },
     "execution_count": 9,
     "metadata": {},
     "output_type": "execute_result"
    }
   ],
   "source": [
    "len(new_poiset)"
   ]
  },
  {
   "cell_type": "code",
   "execution_count": 27,
   "metadata": {},
   "outputs": [
    {
     "name": "stdout",
     "output_type": "stream",
     "text": [
      "[[0, [23030, 4498, 35285, 58280, 58281, 58282, 58283, 58284, 58285, 58286], [5063, 4651, 4583, 4036, 5208, 5069, 5068, 4922, 4852, 4997, 188, 317, 3629, 257, 2430, 4104, 5755, 3696, 528, 9, 5276, 4786, 649, 5754, 4996, 316, 256, 4925, 4855, 372, 5210, 4926, 5280, 5832, 6381, 5281, 3782, 5274, 4787, 5136]], [0, [23030, 4498, 35285, 58276, 58277, 58279, 58287, 58288, 58289, 58290], [5063, 4651, 4583, 4036, 5208, 5069, 5068, 4922, 4852, 4997, 188, 317, 3629, 257, 2430, 4104, 5755, 3696, 528, 9, 5276, 4786, 649, 5754, 4996, 316, 256, 4925, 4855, 372, 5210, 4926, 5280, 5832, 6381, 5281, 3782, 5274, 4787, 5136]]]\n"
     ]
    }
   ],
   "source": [
    "for index in scene_list:\n",
    "    if 58279 in index[0][1] or 58279 in index[1][1]:\n",
    "        print(index)\n",
    "        break"
   ]
  },
  {
   "cell_type": "code",
   "execution_count": 21,
   "metadata": {},
   "outputs": [
    {
     "name": "stdout",
     "output_type": "stream",
     "text": [
      "[23030, 4498, 35285, 58280, 58281, 58282, 58283, 58284, 58285, 58286] [23030, 4498, 35285, 58276, 58277, 58279, 58287, 58288, 58289, 58290]\n"
     ]
    }
   ],
   "source": [
    "for index in scene_list:\n",
    "    # if 58278 in index[0][1] or 58278 in index[1][1]:\n",
    "    print(index[0][1],index[1][1])\n",
    "    break"
   ]
  },
  {
   "cell_type": "code",
   "execution_count": 23,
   "metadata": {},
   "outputs": [
    {
     "data": {
      "text/plain": [
       "True"
      ]
     },
     "execution_count": 23,
     "metadata": {},
     "output_type": "execute_result"
    }
   ],
   "source": [
    "58279 in [23030, 4498, 35285, 58276, 58277, 58279, 58287, 58288, 58289, 58290]"
   ]
  },
  {
   "cell_type": "code",
   "execution_count": 28,
   "metadata": {},
   "outputs": [
    {
     "data": {
      "text/plain": [
       "[58278, 19, (12936880.542151308, 4829477.2061423035)]"
      ]
     },
     "execution_count": 28,
     "metadata": {},
     "output_type": "execute_result"
    }
   ],
   "source": [
    "new_poiset[58278]"
   ]
  },
  {
   "cell_type": "code",
   "execution_count": 29,
   "metadata": {},
   "outputs": [
    {
     "data": {
      "text/plain": [
       "[58279, 19, (12936883.236135015, 4829468.20056326)]"
      ]
     },
     "execution_count": 29,
     "metadata": {},
     "output_type": "execute_result"
    }
   ],
   "source": [
    "new_poiset[58279]"
   ]
  },
  {
   "cell_type": "code",
   "execution_count": null,
   "metadata": {},
   "outputs": [],
   "source": []
  }
 ],
 "metadata": {
  "kernelspec": {
   "display_name": "Python 3.8.13 ('GCN')",
   "language": "python",
   "name": "python3"
  },
  "language_info": {
   "codemirror_mode": {
    "name": "ipython",
    "version": 3
   },
   "file_extension": ".py",
   "mimetype": "text/x-python",
   "name": "python",
   "nbconvert_exporter": "python",
   "pygments_lexer": "ipython3",
   "version": "3.8.13"
  },
  "orig_nbformat": 4,
  "vscode": {
   "interpreter": {
    "hash": "e182acb5ef20b9ebade831c2f495095bb8e005b851e4fdd23f2caf08444d8814"
   }
  }
 },
 "nbformat": 4,
 "nbformat_minor": 2
}
