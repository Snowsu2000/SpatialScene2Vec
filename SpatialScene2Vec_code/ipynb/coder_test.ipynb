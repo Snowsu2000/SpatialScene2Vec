{
 "cells": [
  {
   "cell_type": "code",
   "execution_count": 9,
   "metadata": {},
   "outputs": [],
   "source": [
    "import torch\n",
    "from torch.functional import norm\n",
    "import torch.nn as nn\n",
    "import numpy as np\n",
    "import math\n",
    "from scene2vec_code.module import *\n",
    "import os\n",
    "import pickle\n",
    "from scene2vec_code.scene_data_load import load_scene_list\n",
    "from scene2vec_code.poi_data_load import load_poiset\n",
    "from scene2vec_code.center_data_load import load_centerset"
   ]
  },
  {
   "cell_type": "code",
   "execution_count": 10,
   "metadata": {},
   "outputs": [],
   "source": [
    "import random\n",
    "from pyproj import CRS\n",
    "from pyproj import Transformer\n",
    "import numpy as np\n",
    "class SpatialSceneAugmentation:\n",
    "    def __init__(self,poiset,centerset,max_poi_len=10) -> None:\n",
    "        self.poiset = poiset.copy()\n",
    "        self.centerset = centerset\n",
    "        self.max_poi_len = max_poi_len\n",
    "        # self.shift = 0.0001\n",
    "        self.p = 0.8\n",
    "        self.crs_org = CRS.from_epsg(4326)\n",
    "        self.crs_convert = CRS.from_epsg(3857)\n",
    "        self.transformer = Transformer.from_crs(self.crs_org,self.crs_convert)\n",
    "        self.transformer_reverse = Transformer.from_crs(self.crs_convert,self.crs_org)\n",
    "        # self.scene_add_list =  [3,6,7,9,16,17]\n",
    "        self.poi_len = len(self.poiset)\n",
    "    \n",
    "    def __call__(self, scnen_list):\n",
    "        scene_list_pair = []\n",
    "        for scene in scnen_list:\n",
    "            scene_len = len(scene[1])\n",
    "            org_scene = scene\n",
    "            #1.delete the scenes with 0 poi\n",
    "            if scene_len == 0:\n",
    "                continue\n",
    "            #2.if the num of pois in scene is less than 5\n",
    "            #  add 1-3 pois randomly\n",
    "            if scene_len < 5:\n",
    "                sim_scene,new_poiset = self.add_or_delete(scene,is_add=True)\n",
    "                self.poiset += new_poiset\n",
    "            else:\n",
    "                sim_scene = self.add_or_delete(scene,is_add=False)\n",
    "            sim_scene,new_poiset = self.shifting(sim_scene)\n",
    "            self.poiset += new_poiset\n",
    "            org_scene,new_poiset = self.padding(org_scene)\n",
    "            self.poiset += new_poiset\n",
    "            sim_scene,new_poiset = self.padding(sim_scene)\n",
    "            self.poiset += new_poiset\n",
    "            scene_list_pair.append([org_scene,sim_scene])\n",
    "        return scene_list_pair,self.poiset\n",
    "\n",
    "\n",
    "\n",
    "\n",
    "    def add_or_delete(self,scene,is_add=True):\n",
    "        if is_add:\n",
    "            num = random.randint(1,2)\n",
    "            center_x,center_y = self.transformer_reverse.transform(self.centerset[scene[0]][1][0],self.centerset[scene[0]][1][1])\n",
    "            new_pois_num = []\n",
    "            new_poiset = []\n",
    "            for i in range(num):\n",
    "                new_poi_loc = self.transformer.transform((random.random()*2-1)*0.002+center_x,\n",
    "                                               (random.random()*2-1)*0.002+center_y)\n",
    "                new_poi_type = random.randint(0,21)\n",
    "                new_pois_num.append(self.poi_len+i)\n",
    "                new_poiset.append([self.poi_len+i,new_poi_type,new_poi_loc])\n",
    "            sim_scene = [scene[0],scene[1]+new_pois_num,scene[2]]\n",
    "            self.poi_len += num\n",
    "            return sim_scene,new_poiset\n",
    "        else:\n",
    "            num = random.randint(0,2)\n",
    "            new_poi_list = list(np.random.choice(scene[1],len(scene[1])-num,replace=False))\n",
    "            sim_scene = [scene[0],new_poi_list,scene[2]]\n",
    "            return sim_scene\n",
    "\n",
    "    #后面考虑概率进行平移\n",
    "    def shifting(self,scene):\n",
    "        num = random.randint(0,len(scene[1])-1)\n",
    "        new_poiset = []\n",
    "        if num == 0:\n",
    "            return scene,new_poiset\n",
    "        else:\n",
    "            shift_poi_list = list(np.random.choice(scene[1],num,replace=False))\n",
    "            new_poi_list = []\n",
    "            for poi_id in scene[1]:\n",
    "                if poi_id in shift_poi_list:\n",
    "                    continue\n",
    "                new_poi_list.append(poi_id)\n",
    "            for i,poi_id in enumerate(shift_poi_list):\n",
    "                org_poi_x,org_poi_y = self.transformer_reverse.transform(self.poiset[poi_id][2][0],self.poiset[poi_id][2][1])\n",
    "                shift_poi_loc = self.transformer.transform((random.random()*2-1)*0.0005+org_poi_x,\n",
    "                                                            (random.random()*2-1)*0.0005+org_poi_y)\n",
    "                new_poi_list.append(self.poi_len+i)\n",
    "                new_poiset.append([self.poi_len+i,self.poiset[poi_id][1],shift_poi_loc])\n",
    "            self.poi_len += num\n",
    "            sim_scene = [scene[0],new_poi_list,scene[2]]\n",
    "            return sim_scene,new_poiset             \n",
    "\n",
    "    def padding(self,scene):\n",
    "        new_poiset = []\n",
    "        padding_len = self.max_poi_len - len(scene[1])\n",
    "        new_poi_list = scene[1].copy()\n",
    "        if padding_len == 0:\n",
    "            return scene,new_poiset\n",
    "        else:\n",
    "            for i in range(padding_len):\n",
    "                poi_choose = int(np.random.choice(scene[1],1,replace=False)[0])\n",
    "                org_poi_x,org_poi_y = self.transformer_reverse.transform(self.poiset[poi_choose][2][0],self.poiset[poi_choose][2][1])\n",
    "                padding_poi_loc = self.transformer.transform((random.random()*2-1)*0.0003+org_poi_x,\n",
    "                                                            (random.random()*2-1)*0.0003+org_poi_y)\n",
    "                new_poi_list.append(self.poi_len+i)\n",
    "                new_poiset.append([self.poi_len+i,21,padding_poi_loc])\n",
    "            padding_scene = [scene[0],new_poi_list,scene[2]]\n",
    "            self.poi_len += padding_len\n",
    "            return padding_scene,new_poiset"
   ]
  },
  {
   "cell_type": "code",
   "execution_count": 11,
   "metadata": {},
   "outputs": [],
   "source": [
    "import os\n",
    "import pickle\n",
    "path = os.getcwd()\n",
    "data_path = '/data_in_use/'\n",
    "scene_data = pickle.load(open(path+data_path+'scene_ng_list.pkl','rb'))\n",
    "poiset = pickle.load(open(path+data_path+'pointset.pkl','rb'))\n",
    "centerset = pickle.load(open(path+data_path+'centersets.pkl','rb'))\n"
   ]
  },
  {
   "cell_type": "code",
   "execution_count": 12,
   "metadata": {},
   "outputs": [],
   "source": [
    "#原poi_len:58276\n",
    "aug = SpatialSceneAugmentation(poiset=poiset,centerset=centerset)\n",
    "scene_list,new_poiset = aug(scene_data)"
   ]
  },
  {
   "cell_type": "code",
   "execution_count": 13,
   "metadata": {},
   "outputs": [],
   "source": [
    "scene_ng_list = load_scene_list(ng_data=scene_list)\n",
    "poi_ng_list = load_poiset(poi_list=poiset)\n",
    "center_ng_list = load_centerset(center_list=centerset)"
   ]
  },
  {
   "cell_type": "code",
   "execution_count": 14,
   "metadata": {},
   "outputs": [],
   "source": [
    "train_loader = torch.utils.data.DataLoader(scene_ng_list,shuffle=True,batch_size=256)"
   ]
  },
  {
   "cell_type": "code",
   "execution_count": 21,
   "metadata": {},
   "outputs": [],
   "source": [
    "n = len(scene_ng_list)\n",
    "batch_size = 5\n",
    "iter_count = 0\n",
    "start = (iter_count*batch_size)%n\n",
    "end = min(((iter_count+1)*batch_size)%n,n)\n",
    "end = n if end <= start else end\n",
    "ng_list_q,ng_list_k = np.array(scene_ng_list)[start:end,0],np.array(scene_ng_list)[start:end,1]\n"
   ]
  },
  {
   "cell_type": "code",
   "execution_count": 23,
   "metadata": {},
   "outputs": [
    {
     "data": {
      "text/plain": [
       "0"
      ]
     },
     "execution_count": 23,
     "metadata": {},
     "output_type": "execute_result"
    }
   ],
   "source": [
    "ng_list_k[0].center_pt"
   ]
  },
  {
   "cell_type": "code",
   "execution_count": 3,
   "metadata": {},
   "outputs": [
    {
     "data": {
      "text/plain": [
       "'/home/gesy/Scene2Vec_beta'"
      ]
     },
     "execution_count": 3,
     "metadata": {},
     "output_type": "execute_result"
    }
   ],
   "source": [
    "import os\n",
    "os.path.abspath('.')"
   ]
  },
  {
   "cell_type": "code",
   "execution_count": 1,
   "metadata": {},
   "outputs": [
    {
     "data": {
      "text/plain": [
       "[1, 2, 3, 4]"
      ]
     },
     "execution_count": 1,
     "metadata": {},
     "output_type": "execute_result"
    }
   ],
   "source": []
  },
  {
   "cell_type": "code",
   "execution_count": null,
   "metadata": {},
   "outputs": [],
   "source": []
  }
 ],
 "metadata": {
  "kernelspec": {
   "display_name": "Python 3.8.13 ('GCN')",
   "language": "python",
   "name": "python3"
  },
  "language_info": {
   "codemirror_mode": {
    "name": "ipython",
    "version": 3
   },
   "file_extension": ".py",
   "mimetype": "text/x-python",
   "name": "python",
   "nbconvert_exporter": "python",
   "pygments_lexer": "ipython3",
   "version": "3.8.13"
  },
  "orig_nbformat": 4,
  "vscode": {
   "interpreter": {
    "hash": "e182acb5ef20b9ebade831c2f495095bb8e005b851e4fdd23f2caf08444d8814"
   }
  }
 },
 "nbformat": 4,
 "nbformat_minor": 2
}
